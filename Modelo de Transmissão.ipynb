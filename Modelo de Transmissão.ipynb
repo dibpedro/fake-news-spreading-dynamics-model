{
 "cells": [
  {
   "cell_type": "code",
   "execution_count": 6,
   "metadata": {},
   "outputs": [
    {
     "name": "stdout",
     "output_type": "stream",
     "text": [
      "Defina o número de observações: 500\n",
      "Defina P(X = 2): 0.3\n",
      "Defina P(X = 1): 0.3\n",
      "[7, 26, 0, 0, 1, 5, 0, 6, 13, 9, 0, 7, 2, 0, 6, 6, 3, 2, 0, 3, 0, 12, 1, 0, 2, 0, 0, 1, 7, 10, 2, 1, 4, 0, 0, 0, 3, 1, 1, 1, 0, 1, 11, 2, 9, 0, 0, 10, 0, 0, 2, 3, 0, 0, 0, 0, 0, 0, 0, 5, 0, 1, 0, 0, 0, 1, 4, 0, 0, 0, 45, 8, 2, 1, 2, 0, 0, 1, 1, 0, 0, 5, 0, 2, 0, 1, 0, 1, 2, 14, 1, 2, 5, 1, 1, 0, 12, 2, 2, 0, 4, 1, 3, 6, 0, 0, 1, 0, 0, 0, 7, 9, 1, 0, 4, 7, 0, 3, 0, 0, 0, 0, 0, 2, 0, 0, 6, 0, 6, 0, 5, 0, 0, 1, 0, 8, 3, 1, 0, 1, 1, 6, 5, 0, 3, 0, 1, 0, 1, 1, 9, 1, 4, 0, 1, 6, 0, 3, 3, 0, 14, 2, 0, 0, 0, 0, 0, 17, 0, 0, 1, 13, 6, 1, 1, 0, 4, 0, 2, 1, 0, 2, 0, 1, 0, 0, 0, 0, 0, 0, 2, 0, 5, 1, 0, 2, 0, 4, 0, 1, 0, 5, 0, 0, 0, 2, 5, 0, 4, 4, 3, 0, 18, 0, 1, 0, 0, 1, 0, 0, 1, 2, 0, 0, 4, 4, 1, 0, 0, 2, 4, 0, 1, 9, 1, 0, 0, 1, 0, 1, 7, 1, 17, 2, 4, 0, 1, 1, 5, 0, 0, 21, 18, 0, 2, 0, 1, 1, 9, 1, 3, 1, 0, 6, 4, 1, 7, 0, 5, 0, 33, 1, 0, 2, 0, 0, 0, 0, 1, 5, 6, 0, 4, 15, 4, 0, 0, 27, 0, 5, 1, 1, 2, 1, 14, 1, 0, 0, 7, 13, 19, 0, 0, 0, 0, 0, 0, 0, 5, 0, 0, 8, 5, 0, 5, 0, 3, 3, 0, 0, 2, 0, 0, 3, 3, 15, 2, 0, 0, 2, 5, 2, 1, 4, 0, 1, 1, 1, 4, 0, 0, 3, 3, 1, 2, 0, 6, 1, 26, 0, 0, 3, 0, 0, 0, 0, 1, 0, 0, 0, 0, 37, 4, 0, 0, 0, 0, 2, 1, 0, 5, 0, 0, 3, 1, 2, 0, 0, 1, 0, 0, 4, 0, 0, 1, 3, 0, 8, 19, 1, 4, 2, 14, 1, 10, 6, 2, 3, 0, 0, 2, 2, 0, 1, 0, 0, 6, 1, 4, 0, 4, 0, 2, 1, 1, 3, 4, 0, 0, 1, 4, 0, 4, 0, 1, 8, 7, 6, 0, 15, 6, 10, 0, 0, 0, 1, 0, 13, 1, 2, 1, 2, 1, 3, 1, 4, 3, 5, 1, 1, 1, 7, 13, 2, 4, 0, 0, 0, 0, 4, 3, 2, 0, 1, 4, 4, 0, 0, 1, 0, 1, 4, 1, 3, 2, 5, 17, 4, 0, 0, 1, 0, 4, 0, 1, 14, 0, 0, 2, 1, 5, 3, 1, 0, 0, 6, 0, 1, 0, 1]\n",
      "A média de gerações até o processo morrer é de 2.74 gerações.\n"
     ]
    }
   ],
   "source": [
    "import numpy as np\n",
    "\n",
    "\n",
    "n = int(input('Defina o número de observações: '))\n",
    "p = float(input('Defina P(X = 2): ')) #probabilidade de 1 indivíduo transmitir para 2 indivíduos à sua direita\n",
    "q = float(input('Defina P(X = 1): ')) #probabilidade de 1 indivíduo transmitir para 1 indivíduos à sua direita\n",
    "\n",
    "r = 1 - p - q #probabolidade de 1 indivíduo não transmitir a notícia pra ninguém à sua direita\n",
    "\n",
    "x = [] #nessa lista, entrarão os valores de x (número de gerações até o processo morrer)\n",
    "       #pra cada uma das observações\n",
    "    \n",
    "\n",
    "for i in range(n): #cada laço representa a vida de 1 processo\n",
    "    contador = 0 #o contador irá representar o número de gerações em cada processo\n",
    "                 #indiretamente, o tempo de vida dele (estamos lidando com casos onde o processo DEVE morrer)\n",
    "    \n",
    "    y = np.random.uniform(low=0.0, high=1.0, size=None) #gerando uma variável aleatória com distribuição normal\n",
    "    \n",
    "    if 0 <= y and y < r: #se essa variável estiver entre 0 e r, a informação não foi transmitida pra ninguém (l = 0)\n",
    "        l = 0            \n",
    "    elif r <= y and y < r + q: #similarmente, a informação foi transmitida para 1 pessoa\n",
    "        l = 1\n",
    "    elif y >= r + q:           #e aqui para 2 pessoas\n",
    "        l = 2\n",
    "        \n",
    "    \n",
    "    if l > 0:           #se a informação foi passada pra frente, temos mais 1 geração\n",
    "        contador += 1\n",
    "    \n",
    "    \n",
    "    while l > 0: #enquanto a informação estiver sendo transmitida...\n",
    "        \n",
    "        y = np.random.uniform(low=0.0, high=1.0, size=l) #gerando um vetor aleatório de tamanho l, também com \n",
    "                                                         #distribuição normal\n",
    "        aux = l\n",
    "        l = 0\n",
    "        \n",
    "        for j in range(aux): #aqui, acontece basicamente o mesmo que na parte de cima, mas agora olhando dentro\n",
    "                             #de cada vetor, verificando cada entrada dele\n",
    "            \n",
    "            if r <= y[j] < r + q:\n",
    "                l += 1\n",
    "            elif r + q <= y[j] <= 1:\n",
    "                l += 2\n",
    "        \n",
    "        if l > 0: #e a informação continua sendo transmitida, ou seja, temos mais 1 geração\n",
    "            contador += 1\n",
    "            \n",
    "    x.append(contador) #quando finalmente sairmos do laço, significa que o processo morreu\n",
    "                       #e agora acrescentaremos o número da última geração no vetor x\n",
    "\n",
    "print(x)\n",
    "media = np.mean(x) #o que nos interessa é a média com que o processo morre\n",
    "print('A média de gerações até o processo morrer é de', round(media, 2), 'gerações.')"
   ]
  }
 ],
 "metadata": {
  "kernelspec": {
   "display_name": "Python 3",
   "language": "python",
   "name": "python3"
  },
  "language_info": {
   "codemirror_mode": {
    "name": "ipython",
    "version": 3
   },
   "file_extension": ".py",
   "mimetype": "text/x-python",
   "name": "python",
   "nbconvert_exporter": "python",
   "pygments_lexer": "ipython3",
   "version": "3.8.5"
  }
 },
 "nbformat": 4,
 "nbformat_minor": 4
}
