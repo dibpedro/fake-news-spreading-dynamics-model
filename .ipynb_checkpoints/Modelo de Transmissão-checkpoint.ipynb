{
 "cells": [
  {
   "cell_type": "code",
   "execution_count": 1,
   "metadata": {
    "executionInfo": {
     "elapsed": 502,
     "status": "ok",
     "timestamp": 1629935817371,
     "user": {
      "displayName": "Igor Magalhaes Rodrigues",
      "photoUrl": "https://lh3.googleusercontent.com/a-/AOh14Gii79pbK1t6ETA4Hn57ccZO93FlL-41rZJlvXgeWw=s64",
      "userId": "07496895304333487205"
     },
     "user_tz": 180
    },
    "id": "L_vbPUnmEgAG"
   },
   "outputs": [],
   "source": [
    "import numpy as np\n",
    "\n",
    "\n",
    "def modelo_transmissao(p, q, n=1000):\n",
    "  \"\"\"\n",
    "  Recebe a probabilidade de um indíviduo transmitir uma notícia falsa para 2 indivíduos à sua direita,\n",
    "  a probabilidade de um indivíduo transmitir para 1 indivíduo à sua direita e o número de observações.\n",
    "  Retorna a média de gerações até o processo morrer.\n",
    "\n",
    "  Atributos\n",
    "  ---------\n",
    "  p : float\n",
    "      probabilidade de 1 indivíduo transmitir para 2 indivíduos à sua direita\n",
    "  q : float\n",
    "      probabilidade de 1 indivíduo transmitir para 1 indivíduo à sua direita\n",
    "  n : int, padrão 1000\n",
    "      número de observações\n",
    "  \n",
    "  Saída\n",
    "  -------\n",
    "  float\n",
    "      média de gerações até o processo morrer\n",
    "  \"\"\"\n",
    "\n",
    "  # r : probabilidade de 1 indivíduo não transmitir a notícia pra ninguém à sua direita\n",
    "  # x : valores de x (número de gerações até o processo morrer) para cada uma das observações\n",
    "  r, x = 1 - p - q, [] \n",
    "\n",
    "  # cada laço representa a vida de 1 processo, estamos lidando com casos2 onde ele DEVE morrer\n",
    "  # o contador irá representar o número de gerações (tempo de vida) em cada processo \n",
    "  for i in range(n): \n",
    "      contador = 0 \n",
    "\n",
    "      # gerando uma variável aleatória com distribuição normal\n",
    "      y = np.random.uniform(low=0.0, high=1.0, size=None) \n",
    "      \n",
    "      # l representa o número de pessoas para quem essa informação foi transmitida\n",
    "      # nos casos que foi passada pra frente, temos mais 1 geração (contador += 1)\n",
    "      if 0 <= y and y < r: \n",
    "          l = 0\n",
    "      \n",
    "      elif r <= y and y < r + q: \n",
    "          l = 1\n",
    "          contador += 1 \n",
    "      \n",
    "      else: \n",
    "          l = 2\n",
    "          contador += 1 \n",
    "          \n",
    "      # enquanto a informação estiver sendo transmitida\n",
    "      while l:\n",
    "          #gerando um vetor aleatório de tamanho l com distribuição normal\n",
    "          y = np.random.uniform(low=0.0, high=1.0, size=l) \n",
    "          aux, l = l, 0\n",
    "\n",
    "          # agora verificando em cada entrada do vetor\n",
    "          for j in y: \n",
    "              if r <= j < r + q:\n",
    "                  l += 1\n",
    "\n",
    "              elif r + q <= j <= 1:\n",
    "                  l += 2\n",
    "          \n",
    "          if l:\n",
    "              contador += 1\n",
    "              \n",
    "      # processo morreu, então acrescentamos o número da última geração no vetor x\n",
    "      x.append(contador) \n",
    "      \n",
    "  # o que nos interessa é a média com que o processo morre\n",
    "  return np.mean(x) "
   ]
  },
  {
   "cell_type": "code",
   "execution_count": 2,
   "metadata": {
    "colab": {
     "base_uri": "https://localhost:8080/"
    },
    "executionInfo": {
     "elapsed": 19912,
     "status": "ok",
     "timestamp": 1629935837264,
     "user": {
      "displayName": "Igor Magalhaes Rodrigues",
      "photoUrl": "https://lh3.googleusercontent.com/a-/AOh14Gii79pbK1t6ETA4Hn57ccZO93FlL-41rZJlvXgeWw=s64",
      "userId": "07496895304333487205"
     },
     "user_tz": 180
    },
    "id": "0xsUdG-9L3Kl",
    "outputId": "6a7b382b-00e9-4253-859e-55d1b638ba19"
   },
   "outputs": [
    {
     "name": "stdout",
     "output_type": "stream",
     "text": [
      "Defina P(X = 2): 0.3\n",
      "Defina P(X = 1): 0.3\n",
      "Defina o número de observações: 5000\n",
      "A média de gerações até o processo morrer é de 3.35 gerações.\n"
     ]
    }
   ],
   "source": [
    "p = float(input('Defina P(X = 2): ')) #probabilidade de 1 indivíduo transmitir para 2 indivíduos à sua direita\n",
    "q = float(input('Defina P(X = 1): ')) #probabilidade de 1 indivíduo transmitir para 1 indivíduos à sua direita\n",
    "n = int(input('Defina o número de observações: '))\n",
    "\n",
    "print('A média de gerações até o processo morrer é de {:.2f} gerações.'.format(modelo_transmissao(p, q, n)))"
   ]
  }
 ],
 "metadata": {
  "colab": {
   "collapsed_sections": [],
   "name": "ModeloTransmissão.ipynb",
   "provenance": []
  },
  "kernelspec": {
   "display_name": "Python 3",
   "language": "python",
   "name": "python3"
  },
  "language_info": {
   "codemirror_mode": {
    "name": "ipython",
    "version": 3
   },
   "file_extension": ".py",
   "mimetype": "text/x-python",
   "name": "python",
   "nbconvert_exporter": "python",
   "pygments_lexer": "ipython3",
   "version": "3.8.8"
  }
 },
 "nbformat": 4,
 "nbformat_minor": 1
}
